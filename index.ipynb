{
 "cells": [
  {
   "cell_type": "markdown",
   "metadata": {},
   "source": [
    "# Data Assimilation in Python"
   ]
  },
  {
   "cell_type": "code",
   "execution_count": 1,
   "metadata": {
    "collapsed": false
   },
   "outputs": [],
   "source": [
    "%matplotlib inline"
   ]
  },
  {
   "cell_type": "code",
   "execution_count": 3,
   "metadata": {
    "collapsed": false
   },
   "outputs": [],
   "source": [
    "import numpy as np\n",
    "import matplotlib.pyplot as plt\n",
    "import pandas as pd"
   ]
  },
  {
   "cell_type": "code",
   "execution_count": 4,
   "metadata": {
    "collapsed": false
   },
   "outputs": [],
   "source": [
    "import DA"
   ]
  },
  {
   "cell_type": "markdown",
   "metadata": {},
   "source": [
    "## Kalman Filter"
   ]
  },
  {
   "cell_type": "markdown",
   "metadata": {},
   "source": [
    "- カルマンフィルターで観測から現在の状態を推定する\n",
    "- 状態空間の考え方を掴む\n",
    "- 例として調和振動子を使う"
   ]
  },
  {
   "cell_type": "markdown",
   "metadata": {},
   "source": [
    "### 調和振動子"
   ]
  },
  {
   "cell_type": "markdown",
   "metadata": {},
   "source": [
    "TODO:振り子の絵"
   ]
  },
  {
   "cell_type": "markdown",
   "metadata": {},
   "source": [
    "[調和振動子](https://ja.wikipedia.org/wiki/%E8%AA%BF%E5%92%8C%E6%8C%AF%E5%8B%95%E5%AD%90)の運動方程式\n",
    "\n",
    "$$\n",
    "\\frac{d}{dt}\n",
    "\\left(\n",
    "\\begin{array}{c}\n",
    "  x \\\\\n",
    "  v \\\\\n",
    "\\end{array}\n",
    "\\right)\n",
    "= \\left(\n",
    "\\begin{array}{cc}\n",
    "  0 & 1 \\\\\n",
    "  -\\omega^2 & 0 \\\\\n",
    "\\end{array}\n",
    "\\right)\n",
    "\\left(\n",
    "\\begin{array}{c}\n",
    "  x \\\\\n",
    "  v \\\\\n",
    "\\end{array}\n",
    "\\right)\n",
    "$$"
   ]
  },
  {
   "cell_type": "markdown",
   "metadata": {},
   "source": [
    "この例では運動方程式は解けて次のようになる：\n",
    "$$\n",
    "x(t) = A \\sin(\\omega t + \\phi) \\\\\n",
    "v(t) = A\\omega \\cos(\\omega t + \\phi)\n",
    "$$\n",
    "運動方程式を初期値問題とすると$A, \\phi$は最初($t=0$)の状態から定まる。今回は未定とする。"
   ]
  },
  {
   "cell_type": "markdown",
   "metadata": {},
   "source": [
    "TODO:状態空間の図"
   ]
  },
  {
   "cell_type": "markdown",
   "metadata": {},
   "source": [
    "微分方程式のままだと扱いにくいので、離散化しておく。\n",
    "$y = (x, v)^T$のようにベクトルの形式にしておくと運動方程式は\n",
    "\n",
    "$$\n",
    "\\frac{dy}{dt} = A y\n",
    "$$\n",
    "\n",
    "これから\n",
    "\n",
    "$$\n",
    "y(t) = e^{tA} y(0)\n",
    "$$\n",
    "\n",
    "のように行列$e^{tA}$の掛け算で書ける（線形）。"
   ]
  },
  {
   "cell_type": "markdown",
   "metadata": {},
   "source": [
    "### 観測"
   ]
  },
  {
   "cell_type": "markdown",
   "metadata": {},
   "source": [
    "- $\\Delta t = 1.0$毎に観測できる\n",
    "- 観測できる変数は$x$だけ\n",
    "- 観測では平均０分散１のノイズがはいる"
   ]
  },
  {
   "cell_type": "markdown",
   "metadata": {},
   "source": [
    "### データ同化"
   ]
  },
  {
   "cell_type": "markdown",
   "metadata": {},
   "source": [
    "- 初期値を知らないから状態空間のどこにいるかわからない\n",
    "- 状態空間での存在確率 $p(x, v)$を考える\n",
    "- 一般の確率分布は扱うのが大変なのでガウシアンを使う $p(y) \\propto \\exp((y-y_c)^T\\Lambda(y-y_c))$\n",
    "  - 中心：$y_c$、共分散：$\\Lambda$"
   ]
  },
  {
   "cell_type": "markdown",
   "metadata": {},
   "source": [
    "TODO:状態空間上の確率の図"
   ]
  },
  {
   "cell_type": "markdown",
   "metadata": {},
   "source": [
    "- 運動方程式から中心と共分散の時間発展がわかる\n"
   ]
  },
  {
   "cell_type": "markdown",
   "metadata": {},
   "source": [
    "## Particle Filter"
   ]
  }
 ],
 "metadata": {
  "kernelspec": {
   "display_name": "Python 3",
   "language": "python",
   "name": "python3"
  },
  "language_info": {
   "codemirror_mode": {
    "name": "ipython",
    "version": 3
   },
   "file_extension": ".py",
   "mimetype": "text/x-python",
   "name": "python",
   "nbconvert_exporter": "python",
   "pygments_lexer": "ipython3",
   "version": "3.5.2"
  },
  "toc": {
   "colors": {
    "hover_highlight": "#DAA520",
    "running_highlight": "#FF0000",
    "selected_highlight": "#FFD700"
   },
   "moveMenuLeft": true,
   "nav_menu": {
    "height": "119px",
    "width": "251px"
   },
   "navigate_menu": true,
   "number_sections": true,
   "sideBar": true,
   "threshold": 4,
   "toc_cell": false,
   "toc_section_display": "block",
   "toc_window_display": false
  }
 },
 "nbformat": 4,
 "nbformat_minor": 2
}
